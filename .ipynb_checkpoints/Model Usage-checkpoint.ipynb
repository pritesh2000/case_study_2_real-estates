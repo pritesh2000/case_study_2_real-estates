{
 "cells": [
  {
   "cell_type": "code",
   "execution_count": 1,
   "id": "ae326937",
   "metadata": {},
   "outputs": [],
   "source": [
    "from joblib import load, dump\n",
    "model = load('real_estate.joblib')"
   ]
  },
  {
   "cell_type": "code",
   "execution_count": 3,
   "id": "dc94c0ee",
   "metadata": {},
   "outputs": [
    {
     "data": {
      "text/plain": [
       "array([22.661])"
      ]
     },
     "execution_count": 3,
     "metadata": {},
     "output_type": "execute_result"
    }
   ],
   "source": [
    "import numpy as np\n",
    "features = np.array([[-0.43942006,  3.12628155, -1.12165014, -0.27288841, -1.42262747,\n",
    "       -0.23954065, -1.31238772,  2.61111401, -1.0016859 , -0.5778192 ,\n",
    "       -0.97491834,  0.41164221, -0.86091034]])\n",
    "model.predict(features)"
   ]
  },
  {
   "cell_type": "code",
   "execution_count": null,
   "id": "fd4b5959",
   "metadata": {},
   "outputs": [],
   "source": []
  }
 ],
 "metadata": {
  "kernelspec": {
   "display_name": "Python 3 (ipykernel)",
   "language": "python",
   "name": "python3"
  },
  "language_info": {
   "codemirror_mode": {
    "name": "ipython",
    "version": 3
   },
   "file_extension": ".py",
   "mimetype": "text/x-python",
   "name": "python",
   "nbconvert_exporter": "python",
   "pygments_lexer": "ipython3",
   "version": "3.10.0"
  }
 },
 "nbformat": 4,
 "nbformat_minor": 5
}
